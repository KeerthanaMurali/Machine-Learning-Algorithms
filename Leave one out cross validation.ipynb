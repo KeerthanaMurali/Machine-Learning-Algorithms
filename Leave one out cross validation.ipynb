{
 "cells": [
  {
   "cell_type": "markdown",
   "metadata": {},
   "source": [
    "# FIT5201 S1 2020 Assessment 1: Question 2 - Leave One Out Cross Validation\n",
    "\n",
    "\n",
    "Student information\n",
    "- Family Name:Muralitharan\n",
    "- Given Name: Keerthana\n",
    "- Student ID: 30159474\n",
    "- Student email:kmur0015@student.monash.edu\n",
    "\n",
    "Programming Language: R 3.3 in Jupyter Notebook\n",
    "\n",
    "R Libraries used:\n",
    "- reshape2\n",
    "- ggplot\n",
    "- zoo\n",
    "- dplyr\n",
    "\n",
    "#### Question I.\n",
    "\n",
    "A special case of K-Fold cross-validation is Leave-One-Out cross- validation where K (i.e., the number of folds/subsets) is equal to the size of the training dataset. In each iteration, one training data point is used as the validation set. Implement a Leave-One-Out cross-validation (CV) function for your KNN regressor:\n",
    "<b>cv(train.data, train.label, K, numFold=?)</b>\n",
    "which takes the training data and their labels (continuous values), K\n",
    "value, the number of folds, and returns errors for different folds of the training data.##"
   ]
  },
  {
   "cell_type": "code",
   "execution_count": 1,
   "metadata": {},
   "outputs": [
    {
     "name": "stderr",
     "output_type": "stream",
     "text": [
      "Loading required package: dplyr\n",
      "\n",
      "\n",
      "Attaching package: 'dplyr'\n",
      "\n",
      "\n",
      "The following objects are masked from 'package:stats':\n",
      "\n",
      "    filter, lag\n",
      "\n",
      "\n",
      "The following objects are masked from 'package:base':\n",
      "\n",
      "    intersect, setdiff, setequal, union\n",
      "\n",
      "\n",
      "Loading required package: zoo\n",
      "\n",
      "\n",
      "Attaching package: 'zoo'\n",
      "\n",
      "\n",
      "The following objects are masked from 'package:base':\n",
      "\n",
      "    as.Date, as.Date.numeric\n",
      "\n",
      "\n",
      "Loading required package: ggplot2\n",
      "\n",
      "Loading required package: reshape2\n",
      "\n"
     ]
    }
   ],
   "source": [
    "#importing the packages required\n",
    "require(dplyr)\n",
    "require(zoo)\n",
    "require(ggplot2)\n",
    "require(reshape2)"
   ]
  },
  {
   "cell_type": "markdown",
   "metadata": {},
   "source": [
    "#### Reading the train dataset"
   ]
  },
  {
   "cell_type": "code",
   "execution_count": 2,
   "metadata": {},
   "outputs": [
    {
     "name": "stdout",
     "output_type": "stream",
     "text": [
      "Small snippet of the training dataset\n"
     ]
    },
    {
     "data": {
      "text/html": [
       "<table>\n",
       "<thead><tr><th scope=col>x1</th><th scope=col>y</th></tr></thead>\n",
       "<tbody>\n",
       "\t<tr><td>1960.0</td><td>0.71  </td></tr>\n",
       "\t<tr><td>1960.5</td><td>0.85  </td></tr>\n",
       "\t<tr><td>1961.0</td><td>0.61  </td></tr>\n",
       "\t<tr><td>1961.5</td><td>0.92  </td></tr>\n",
       "\t<tr><td>1962.0</td><td>0.72  </td></tr>\n",
       "\t<tr><td>1962.5</td><td>0.92  </td></tr>\n",
       "</tbody>\n",
       "</table>\n"
      ],
      "text/latex": [
       "\\begin{tabular}{r|ll}\n",
       " x1 & y\\\\\n",
       "\\hline\n",
       "\t 1960.0 & 0.71  \\\\\n",
       "\t 1960.5 & 0.85  \\\\\n",
       "\t 1961.0 & 0.61  \\\\\n",
       "\t 1961.5 & 0.92  \\\\\n",
       "\t 1962.0 & 0.72  \\\\\n",
       "\t 1962.5 & 0.92  \\\\\n",
       "\\end{tabular}\n"
      ],
      "text/markdown": [
       "\n",
       "| x1 | y |\n",
       "|---|---|\n",
       "| 1960.0 | 0.71   |\n",
       "| 1960.5 | 0.85   |\n",
       "| 1961.0 | 0.61   |\n",
       "| 1961.5 | 0.92   |\n",
       "| 1962.0 | 0.72   |\n",
       "| 1962.5 | 0.92   |\n",
       "\n"
      ],
      "text/plain": [
       "  x1     y   \n",
       "1 1960.0 0.71\n",
       "2 1960.5 0.85\n",
       "3 1961.0 0.61\n",
       "4 1961.5 0.92\n",
       "5 1962.0 0.72\n",
       "6 1962.5 0.92"
      ]
     },
     "metadata": {},
     "output_type": "display_data"
    },
    {
     "name": "stdout",
     "output_type": "stream",
     "text": [
      "The dimensions of the dataset:\n",
      " 42 2"
     ]
    }
   ],
   "source": [
    "#Reading the train and test data\n",
    "task1train <- read.csv('Task1A_train.csv', header = TRUE)\n",
    "\n",
    "cat(\"Small snippet of the training dataset\\n\")\n",
    "head(task1train)\n",
    "cat(\"The dimensions of the dataset:\\n\",dim(task1train))\n",
    "\n",
    "#Initializing the input and target values\n",
    "train.data <- task1train[1] \n",
    "train.label <- task1train[2]"
   ]
  },
  {
   "cell_type": "markdown",
   "metadata": {},
   "source": [
    "#### Reading the test dataset"
   ]
  },
  {
   "cell_type": "code",
   "execution_count": 3,
   "metadata": {},
   "outputs": [
    {
     "name": "stdout",
     "output_type": "stream",
     "text": [
      "Small snippet of the test dataset\n"
     ]
    },
    {
     "data": {
      "text/html": [
       "<table>\n",
       "<thead><tr><th scope=col>x1</th><th scope=col>y</th></tr></thead>\n",
       "<tbody>\n",
       "\t<tr><td>1960.25</td><td>0.63   </td></tr>\n",
       "\t<tr><td>1960.75</td><td>0.44   </td></tr>\n",
       "\t<tr><td>1961.25</td><td>0.69   </td></tr>\n",
       "\t<tr><td>1961.75</td><td>0.55   </td></tr>\n",
       "\t<tr><td>1962.25</td><td>0.77   </td></tr>\n",
       "\t<tr><td>1962.75</td><td>0.60   </td></tr>\n",
       "</tbody>\n",
       "</table>\n"
      ],
      "text/latex": [
       "\\begin{tabular}{r|ll}\n",
       " x1 & y\\\\\n",
       "\\hline\n",
       "\t 1960.25 & 0.63   \\\\\n",
       "\t 1960.75 & 0.44   \\\\\n",
       "\t 1961.25 & 0.69   \\\\\n",
       "\t 1961.75 & 0.55   \\\\\n",
       "\t 1962.25 & 0.77   \\\\\n",
       "\t 1962.75 & 0.60   \\\\\n",
       "\\end{tabular}\n"
      ],
      "text/markdown": [
       "\n",
       "| x1 | y |\n",
       "|---|---|\n",
       "| 1960.25 | 0.63    |\n",
       "| 1960.75 | 0.44    |\n",
       "| 1961.25 | 0.69    |\n",
       "| 1961.75 | 0.55    |\n",
       "| 1962.25 | 0.77    |\n",
       "| 1962.75 | 0.60    |\n",
       "\n"
      ],
      "text/plain": [
       "  x1      y   \n",
       "1 1960.25 0.63\n",
       "2 1960.75 0.44\n",
       "3 1961.25 0.69\n",
       "4 1961.75 0.55\n",
       "5 1962.25 0.77\n",
       "6 1962.75 0.60"
      ]
     },
     "metadata": {},
     "output_type": "display_data"
    },
    {
     "name": "stdout",
     "output_type": "stream",
     "text": [
      "The dimensions of the dataset:\n",
      " 42 2"
     ]
    }
   ],
   "source": [
    "#Reading the train and test data\n",
    "task1test <- read.csv('Task1A_test.csv', header = TRUE)\n",
    "\n",
    "cat(\"Small snippet of the test dataset\\n\")\n",
    "head(task1test)\n",
    "cat(\"The dimensions of the dataset:\\n\",dim(task1test))\n",
    "\n",
    "#Initializing the input and target values\n",
    "test.data <- task1test[1] \n",
    "test.label <- task1test[2]"
   ]
  },
  {
   "cell_type": "markdown",
   "metadata": {},
   "source": [
    "#### Building a KNN regressor"
   ]
  },
  {
   "cell_type": "code",
   "execution_count": 5,
   "metadata": {},
   "outputs": [],
   "source": [
    "# Buiding the KNN function (regressor)\n",
    "knn <- function(train.data, train.label,test.data,K )\n",
    "{\n",
    " \n",
    "    # converting the train and test data into dataframe\n",
    "    test_df <- data.frame(test.data)\n",
    "    train_df <- data.frame(train.data)\n",
    "    train_label_df <- data.frame(train.label)\n",
    "     \n",
    "    # counting the number of train and test rows\n",
    "    train.len <- nrow(train_df)\n",
    "    test.len <- nrow(test_df)\n",
    "    \n",
    "    #renaming the column names using colname \n",
    "    colnames(train_df)<- 'x1'\n",
    "    colnames(test_df)<-'x1'\n",
    "    colnames(train_label_df) <- 'y'\n",
    "    \n",
    "    # calculating the distances using manhanttan method\n",
    "    distance =\"manhattan\"\n",
    "    # the dist dataframe consists of the distances calculated between the different points in the dataset\n",
    "    dist <- as.matrix(dist(rbind(test_df, train_df), method= distance))[1:test.len, (test.len+1):(test.len+train.len)]\n",
    "        # finding the K-nearest neighbours from trained samples\n",
    "        nn <- as.data.frame(sort(data.frame(dist)[,1], index.return = TRUE))[1:K,2]\n",
    "        \n",
    "        #finding the mean distance for the K nearest neighbours\n",
    "        test.label[,1] <- mean(train_label_df[nn,])\n",
    "    \n",
    "    #return the test labels as output\n",
    "    return (test.label)\n",
    "}"
   ]
  },
  {
   "cell_type": "markdown",
   "metadata": {},
   "source": [
    "#### Buidling a Cross Validator"
   ]
  },
  {
   "cell_type": "code",
   "execution_count": 7,
   "metadata": {},
   "outputs": [],
   "source": [
    "#Building the cross validator (loocv)\n",
    "cv <- function(train.data, train.label, K , numFold)\n",
    "    {\n",
    "    #Count the length of train data\n",
    "    train.len <- nrow(train.data)\n",
    "    \n",
    "    #Defining the size of K\n",
    "    cv_K <- train.len/numFold\n",
    "    \n",
    "    #Initializing the error variables\n",
    "    total_error = 0\n",
    "    mse = 0\n",
    "    \n",
    "    #Calculating the error for every data value\n",
    "    for (i  in 1:numFold)\n",
    "        {\n",
    "        \n",
    "        #stroring the predicted value in a dataframe\n",
    "        cv_pred<-knn(train.data[-i,],train.label[-i,],train.data[i,],K)\n",
    "        \n",
    "        #calculating the MSE\n",
    "        mse<-(train.label[i,]-cv_pred[1,1])^2\n",
    "        total_error <- total_error+mse\n",
    "    }\n",
    "    \n",
    "    #Return the MSE value\n",
    "    return(total_error/numFold)\n",
    "}"
   ]
  },
  {
   "cell_type": "code",
   "execution_count": 8,
   "metadata": {},
   "outputs": [
    {
     "data": {
      "text/html": [
       "0.266378835978836"
      ],
      "text/latex": [
       "0.266378835978836"
      ],
      "text/markdown": [
       "0.266378835978836"
      ],
      "text/plain": [
       "[1] 0.2663788"
      ]
     },
     "metadata": {},
     "output_type": "display_data"
    }
   ],
   "source": [
    "#Calling the cross validation function\n",
    "cv(train.data, train.label, 3, nrow(train.data))"
   ]
  },
  {
   "cell_type": "markdown",
   "metadata": {},
   "source": [
    "#### Question II.\n",
    "\n",
    "Using the training data in Question 1, run your Leave-One-Out CV. Change the value of K=1,..,15 in your KNN regressor, and for each K compute the average of error values you have got for folds. Plot the average of error values versus 1/K for K=1,..,15 in your KNN regressor. Save the plot in your Jupyter Notebook file for Question 2."
   ]
  },
  {
   "cell_type": "markdown",
   "metadata": {},
   "source": [
    "#### Graph\n",
    "\n",
    "The train and test error for the values of **k** from 1 to 15 is calculated and plotted."
   ]
  },
  {
   "cell_type": "code",
   "execution_count": 9,
   "metadata": {},
   "outputs": [],
   "source": []
  },
  {
   "cell_type": "code",
   "execution_count": 10,
   "metadata": {},
   "outputs": [
    {
     "data": {
      "text/html": [
       "<table>\n",
       "<thead><tr><th scope=col>K</th><th scope=col>train</th><th scope=col>test</th><th scope=col>error</th></tr></thead>\n",
       "<tbody>\n",
       "\t<tr><td>1        </td><td>0        </td><td>0        </td><td>0.4891690</td></tr>\n",
       "\t<tr><td>2        </td><td>0        </td><td>0        </td><td>0.2167673</td></tr>\n",
       "\t<tr><td>3        </td><td>0        </td><td>0        </td><td>0.2663788</td></tr>\n",
       "\t<tr><td>4        </td><td>0        </td><td>0        </td><td>0.2472180</td></tr>\n",
       "\t<tr><td>5        </td><td>0        </td><td>0        </td><td>0.4078313</td></tr>\n",
       "\t<tr><td>6        </td><td>0        </td><td>0        </td><td>0.6011438</td></tr>\n",
       "</tbody>\n",
       "</table>\n"
      ],
      "text/latex": [
       "\\begin{tabular}{r|llll}\n",
       " K & train & test & error\\\\\n",
       "\\hline\n",
       "\t 1         & 0         & 0         & 0.4891690\\\\\n",
       "\t 2         & 0         & 0         & 0.2167673\\\\\n",
       "\t 3         & 0         & 0         & 0.2663788\\\\\n",
       "\t 4         & 0         & 0         & 0.2472180\\\\\n",
       "\t 5         & 0         & 0         & 0.4078313\\\\\n",
       "\t 6         & 0         & 0         & 0.6011438\\\\\n",
       "\\end{tabular}\n"
      ],
      "text/markdown": [
       "\n",
       "| K | train | test | error |\n",
       "|---|---|---|---|\n",
       "| 1         | 0         | 0         | 0.4891690 |\n",
       "| 2         | 0         | 0         | 0.2167673 |\n",
       "| 3         | 0         | 0         | 0.2663788 |\n",
       "| 4         | 0         | 0         | 0.2472180 |\n",
       "| 5         | 0         | 0         | 0.4078313 |\n",
       "| 6         | 0         | 0         | 0.6011438 |\n",
       "\n"
      ],
      "text/plain": [
       "  K train test error    \n",
       "1 1 0     0    0.4891690\n",
       "2 2 0     0    0.2167673\n",
       "3 3 0     0    0.2663788\n",
       "4 4 0     0    0.2472180\n",
       "5 5 0     0    0.4078313\n",
       "6 6 0     0    0.6011438"
      ]
     },
     "metadata": {},
     "output_type": "display_data"
    }
   ],
   "source": [
    "head(error_file)"
   ]
  },
  {
   "cell_type": "code",
   "execution_count": 11,
   "metadata": {},
   "outputs": [
    {
     "data": {
      "image/png": "[encoded data removed]",
      "text/plain": [
       "plot without title"
      ]
     },
     "metadata": {
      "image/png": {
       "height": 420,
       "width": 420
      }
     },
     "output_type": "display_data"
    }
   ],
   "source": [
    "#Plotting the average errors for different K values.\n",
    "ggplot(data=error_file, aes(x=(1/K), y=error)) + geom_line(color='blue') + ggtitle(\"AVerage Error for different K values\")"
   ]
  },
  {
   "cell_type": "markdown",
   "metadata": {},
   "source": [
    "#### Question III. \n",
    "\n",
    "Report (in your Jupyter Notebook file) the optimum value for K based on your plot for this Leave-One-Out cross validation in the previous part (Part II).\n",
    "\n",
    "#### Answer \n",
    "- Estimating the Optimum value for K based on testing error\n",
    " 1. Optimum value for k lies at the value of ~0.5 of 1/K which corresponds to the **K-Value of 2**\n",
    "\n",
    "To choose the most appropriate k folds, we have to make a tradeoff between bias and variance. If k is small, we have a high bias but a low variance for estimating test error; if k is big, we have a low bias and a high variance."
   ]
  },
  {
   "cell_type": "markdown",
   "metadata": {},
   "source": [
    "#### References :\n",
    "\n",
    "- https://towardsdatascience.com/beginners-guide-to-k-nearest-neighbors-in-r-from-zero-to-hero-d92cd4074bdb"
   ]
  }
 ],
 "metadata": {
  "kernelspec": {
   "display_name": "R 3.3",
   "language": "R",
   "name": "ir3.3"
  },
  "language_info": {
   "codemirror_mode": "r",
   "file_extension": ".r",
   "mimetype": "text/x-r-source",
   "name": "R",
   "pygments_lexer": "r",
   "version": "3.5.3"
  }
 },
 "nbformat": 4,
 "nbformat_minor": 4
}
