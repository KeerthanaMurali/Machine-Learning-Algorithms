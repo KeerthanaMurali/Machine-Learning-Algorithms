{
 "cells": [
  {
   "cell_type": "markdown",
   "metadata": {},
   "source": [
    "# FIT5201 S1 2020 Assessment 1: Question 5- Ridge Regression\n",
    "\n",
    "\n",
    "Student information\n",
    "- Family Name:Muralitharan\n",
    "- Given Name: Keerthana\n",
    "- Student ID: 30159474\n",
    "- Student email:kmur0015@student.monash.edu\n",
    "\n",
    "Programming Language: R 3.3 in Jupyter Notebook\n",
    "\n",
    "R Libraries used:\n",
    "- reshape2\n",
    "- ggplot"
   ]
  },
  {
   "cell_type": "code",
   "execution_count": 1,
   "metadata": {
    "scrolled": true
   },
   "outputs": [
    {
     "name": "stderr",
     "output_type": "stream",
     "text": [
      "Loading required package: reshape2\n",
      "\n",
      "Loading required package: ggplot2\n",
      "\n"
     ]
    }
   ],
   "source": [
    "#Importing the packages\n",
    "require(reshape2)\n",
    "require(ggplot2)"
   ]
  },
  {
   "cell_type": "markdown",
   "metadata": {},
   "source": [
    "## Question 2:\n",
    "Using R (with no use of special libraries), implement an SGD algorithm that you derived in Step I. "
   ]
  },
  {
   "cell_type": "markdown",
   "metadata": {},
   "source": [
    "#### Reading the train and test datasets"
   ]
  },
  {
   "cell_type": "code",
   "execution_count": 2,
   "metadata": {},
   "outputs": [],
   "source": [
    "#Reading the train and test datasets\n",
    "dtrain = read.csv(\"Task1C_train.csv\")\n",
    "dtest = read.csv(\"Task1C_test.csv\")"
   ]
  },
  {
   "cell_type": "code",
   "execution_count": 5,
   "metadata": {},
   "outputs": [],
   "source": [
    "#reading the data\n",
    "read_data <- function(fname, sc) {\n",
    "   data <- read.csv(file=fname,head=TRUE,sep=\",\")\n",
    "   nr = dim(data)[1]\n",
    "   nc = dim(data)[2]\n",
    "   x = data[1:nr,1:(nc-1)]\n",
    "   y = data[1:nr,nc]\n",
    "   if (isTRUE(sc)) {\n",
    "      #centers and/or scales the columns of a numeric matrix.\n",
    "      x = scale(x)\n",
    "      y = scale(y)\n",
    "   }\n",
    "   return (list(\"x\" = x, \"y\" = y))\n",
    "}"
   ]
  },
  {
   "cell_type": "markdown",
   "metadata": {},
   "source": [
    "#### prediction function\n",
    "\n",
    "predict the labels based on the coefficients"
   ]
  },
  {
   "cell_type": "code",
   "execution_count": 6,
   "metadata": {},
   "outputs": [],
   "source": [
    "# auxiliary function to calculate labels based on the estimated coefficients\n",
    "predict_func <- function(Phi, w){\n",
    "    return(Phi%*%w)\n",
    "}"
   ]
  },
  {
   "cell_type": "markdown",
   "metadata": {},
   "source": [
    "#### Objective function\n",
    "\n",
    "The error function( MSE)with the regularisation term  is calculated"
   ]
  },
  {
   "cell_type": "code",
   "execution_count": 7,
   "metadata": {},
   "outputs": [],
   "source": [
    "# auxiliary function to calculate the objective function for the training\n",
    "train_obj_func <- function (Phi, w, label, lambda){\n",
    "    # return the objective function with the regularisation term \n",
    "    return(mean((predict_func(Phi, w) - label)^2) + .5 * lambda * w %*% w)\n",
    "}"
   ]
  },
  {
   "cell_type": "markdown",
   "metadata": {},
   "source": [
    "##### Error function\n",
    "\n",
    "error values based on tau counter is calculated for test and train datasets"
   ]
  },
  {
   "cell_type": "code",
   "execution_count": 8,
   "metadata": {},
   "outputs": [],
   "source": [
    "# auxiliary function to compute the error of the model\n",
    "get_errors <- function(train_data, test_data, W, lambda) {\n",
    "   n_weights = dim(W)[1]\n",
    "   #create an error matrix to store the train and test errors based on tau value\n",
    "   errors = matrix(,nrow=n_weights, ncol=2)\n",
    "   #Calculate the errors of train and test data \n",
    "   for (tau in 1:n_weights) {\n",
    "      errors[tau,1] = train_obj_func(train_data$x, W[tau,],train_data$y, lambda)\n",
    "      errors[tau,2] = train_obj_func(test_data$x, W[tau,],test_data$y, lambda)\n",
    "   }\n",
    "    #return the last row of the data\n",
    "    last_row <- nrow(errors)\n",
    "   return(errors[last_row,])\n",
    "}"
   ]
  },
  {
   "cell_type": "markdown",
   "metadata": {},
   "source": [
    "##### Stochastic gradient descent Algorithm Implementation\n",
    "The weight vectors are updates and objective function is calculated for diffent values of counter **tau**"
   ]
  },
  {
   "cell_type": "code",
   "execution_count": 9,
   "metadata": {},
   "outputs": [],
   "source": [
    "##--- Stochastic Gradient Descent --------------------------------------------\n",
    "sgd_train <- function(train_x, train_y, lambda, eta, epsilon, max_epoch) {\n",
    "   train_len = dim(train_x)[1]\n",
    "   tau_max = max_epoch * train_len\n",
    "\n",
    "   W <- matrix(,nrow=tau_max, ncol=ncol(train_x)) \n",
    "   W[1,] <- runif(ncol(train_x))\n",
    "  \n",
    "   tau = 1 # counter \n",
    "   obj_func_val <-matrix(,nrow=tau_max, ncol=1) \n",
    "   obj_func_val[tau,1] = train_obj_func(train_x, W[tau,],train_y, lambda)\n",
    "\n",
    "   while (tau <= tau_max){\n",
    "\n",
    "       # check termination criteria\n",
    "       if (obj_func_val[tau,1]<=epsilon) {break}\n",
    " \n",
    "       # shuffle data:\n",
    "       train_index <- sample(1:train_len, train_len, replace = FALSE)\n",
    "    \n",
    "       # loop over each datapoint\n",
    "       for (i in train_index) {\n",
    "           # increment the counter\n",
    "           tau <- tau + 1\n",
    "           if (tau > tau_max) {break}\n",
    "\n",
    "           # make the weight update\n",
    "           y_pred <- predict_func(train_x[i,], W[tau-1,])\n",
    "           W[tau,] <- sgd_update_weight(W[tau-1,], train_x[i,], train_y[i], y_pred, lambda, eta)\n",
    "\n",
    "           # keep track of the objective funtion\n",
    "           obj_func_val[tau,1] = train_obj_func(train_x, W[tau,],train_y, lambda)\n",
    "       }\n",
    "   }\n",
    "   # resulting values for the training objective function as well as the weights\n",
    "   return(list('vals'=obj_func_val,'W'=W))\n",
    "}\n"
   ]
  },
  {
   "cell_type": "markdown",
   "metadata": {},
   "source": [
    "#### Weight Vector\n",
    "\n",
    "The weight vector is updated by finding the difference of the true and predicted values and summing it with the regularisation term **lambda**"
   ]
  },
  {
   "cell_type": "code",
   "execution_count": 10,
   "metadata": {},
   "outputs": [],
   "source": [
    "# updating the weight vector\n",
    "sgd_update_weight <- function(W_prev, x, y_true, y_pred, lambda, eta) {\n",
    "   # \n",
    "   grad = - (y_true-y_pred) * x + (lambda*W_prev)\n",
    "   return(W_prev - eta * grad)\n",
    "}"
   ]
  },
  {
   "cell_type": "markdown",
   "metadata": {},
   "source": [
    "## Question : \n",
    "\n",
    "For each lambda in {0, 0.4, 0.8, …, 10}, build a regression model and compute the training and testing errors, using the provided data sets. While building each model, all parameter settings (initial values, learning rate, etc) are exactly the same, except a lambda value. Set the termination criterion as maximum of 20 x N weight updates (where N is the number of training data). Create a plot of error rates (use different colors for the training and testing errors), where the x-axis is log lambda and y-axis is the error rate."
   ]
  },
  {
   "cell_type": "markdown",
   "metadata": {},
   "source": [
    "### Stochastic gradient descent training\n",
    "The sgd is trained and the errors are calculated for different **lambda** values from 0.0 to 10.00 with a step of 0.4"
   ]
  },
  {
   "cell_type": "code",
   "execution_count": 11,
   "metadata": {},
   "outputs": [],
   "source": [
    "play_with_sgd <- function(){\n",
    "   ## reading the data\n",
    "   dtrain = read_data(\"Task1C_train.csv\", TRUE)\n",
    "   dtest = read_data(\"Task1C_test.csv\", TRUE)\n",
    "    # a dataframe is created to find all the misclassified samples for each lambda value from 0 to 10 with a stepsize of 0.4\n",
    "    miss <- data.frame('lambda'=seq(0,10,by=0.4), 'train'=0,'test'=0)\n",
    "    n<-0\n",
    "    for(i in 1:26){\n",
    "   ##### SGD Trainng\n",
    "   max_epoch = 20\n",
    "   epsilon = .001\n",
    "   eta = .01\n",
    "   lambda=n\n",
    "   miss[i,'lambda']=lambda\n",
    "  \n",
    "   train_res = sgd_train(dtrain$x, dtrain$y, lambda, eta, epsilon, max_epoch)\n",
    "   errors = get_errors(dtrain, dtest, train_res$W,lambda) \n",
    "    miss[i,'train']<-errors[1]\n",
    "    miss[i,'test']<-errors[2]\n",
    "    n=n+0.4\n",
    "}\n",
    "return(miss)\n",
    "}\n"
   ]
  },
  {
   "cell_type": "markdown",
   "metadata": {},
   "source": [
    "##### The SGD is called and the error are stored in a dataframe"
   ]
  },
  {
   "cell_type": "code",
   "execution_count": 12,
   "metadata": {},
   "outputs": [],
   "source": [
    "options(warn=-1)\n",
    "miss<-play_with_sgd()"
   ]
  },
  {
   "cell_type": "code",
   "execution_count": 14,
   "metadata": {},
   "outputs": [
    {
     "name": "stdout",
     "output_type": "stream",
     "text": [
      "\n",
      "The snippet of the error dataframe \n"
     ]
    },
    {
     "data": {
      "text/html": [
       "<table>\n",
       "<thead><tr><th scope=col>lambda</th><th scope=col>train</th><th scope=col>test</th></tr></thead>\n",
       "<tbody>\n",
       "\t<tr><td>0.0       </td><td>0.07731655</td><td>0.6943870 </td></tr>\n",
       "\t<tr><td>0.4       </td><td>0.15447799</td><td>0.7163719 </td></tr>\n",
       "\t<tr><td>0.8       </td><td>0.22440729</td><td>0.6625594 </td></tr>\n",
       "\t<tr><td>1.2       </td><td>0.27629096</td><td>0.6641708 </td></tr>\n",
       "\t<tr><td>1.6       </td><td>0.30116800</td><td>0.6855939 </td></tr>\n",
       "\t<tr><td>2.0       </td><td>0.32431168</td><td>0.7109367 </td></tr>\n",
       "</tbody>\n",
       "</table>\n"
      ],
      "text/latex": [
       "\\begin{tabular}{r|lll}\n",
       " lambda & train & test\\\\\n",
       "\\hline\n",
       "\t 0.0        & 0.07731655 & 0.6943870 \\\\\n",
       "\t 0.4        & 0.15447799 & 0.7163719 \\\\\n",
       "\t 0.8        & 0.22440729 & 0.6625594 \\\\\n",
       "\t 1.2        & 0.27629096 & 0.6641708 \\\\\n",
       "\t 1.6        & 0.30116800 & 0.6855939 \\\\\n",
       "\t 2.0        & 0.32431168 & 0.7109367 \\\\\n",
       "\\end{tabular}\n"
      ],
      "text/markdown": [
       "\n",
       "| lambda | train | test |\n",
       "|---|---|---|\n",
       "| 0.0        | 0.07731655 | 0.6943870  |\n",
       "| 0.4        | 0.15447799 | 0.7163719  |\n",
       "| 0.8        | 0.22440729 | 0.6625594  |\n",
       "| 1.2        | 0.27629096 | 0.6641708  |\n",
       "| 1.6        | 0.30116800 | 0.6855939  |\n",
       "| 2.0        | 0.32431168 | 0.7109367  |\n",
       "\n"
      ],
      "text/plain": [
       "  lambda train      test     \n",
       "1 0.0    0.07731655 0.6943870\n",
       "2 0.4    0.15447799 0.7163719\n",
       "3 0.8    0.22440729 0.6625594\n",
       "4 1.2    0.27629096 0.6641708\n",
       "5 1.6    0.30116800 0.6855939\n",
       "6 2.0    0.32431168 0.7109367"
      ]
     },
     "metadata": {},
     "output_type": "display_data"
    }
   ],
   "source": [
    "###snippet of the error dataframe\n",
    "cat(\"\\nThe snippet of the error dataframe \\n\")\n",
    "head(miss)"
   ]
  },
  {
   "cell_type": "markdown",
   "metadata": {},
   "source": [
    "#### Graph\n",
    "The graph is plotted for different train and test datapoints versus the lambda value"
   ]
  },
  {
   "cell_type": "code",
   "execution_count": 15,
   "metadata": {},
   "outputs": [
    {
     "data": {
      "image/png": "[encoded data removed]",
      "text/plain": [
       "plot without title"
      ]
     },
     "metadata": {
      "image/png": {
       "height": 420,
       "width": 420
      }
     },
     "output_type": "display_data"
    }
   ],
   "source": [
    "miss.m <- melt(miss, id='lambda') # reshape for visualisation\n",
    "names(miss.m)<-c('lambda','type','error') # rename the columns\n",
    "ggplot(data=miss.m,aes(x=log(lambda),y=error,color=type))+geom_line() + ggtitle(\"Error for different log(lambda) values for train and test data sets\")"
   ]
  },
  {
   "cell_type": "markdown",
   "metadata": {},
   "source": [
    "## Question:\n",
    "Based on your plot in the previous part (Part b), what’s the best value for lambda? Discuss lambda, model complexity, and error rates, corresponding to underfitting and overfitting, by observing your plot."
   ]
  },
  {
   "cell_type": "markdown",
   "metadata": {},
   "source": [
    "#### Observation:\n",
    "\n",
    "- The best value of log(lambda) is -0.1 which implies the **lambda** to be **0.8**\n",
    "- model complexity - 𝜆 increases, model becomes less complex, training error increases\n",
    "- error rates - training error increases, test error  for high values of lambda also increases which leads to **under-fitting**\n",
    "- - error rates - training error is very less , test error is huge for lower values of lambda also increases which leads to **over-fiiting**\n",
    "\n",
    "#### References:\n",
    "\n",
    "- Alexandia Notes\n",
    "- A1_Q5_codebase.R"
   ]
  }
 ],
 "metadata": {
  "kernelspec": {
   "display_name": "R 3.3",
   "language": "R",
   "name": "ir3.3"
  },
  "language_info": {
   "codemirror_mode": "r",
   "file_extension": ".r",
   "mimetype": "text/x-r-source",
   "name": "R",
   "pygments_lexer": "r",
   "version": "3.5.3"
  }
 },
 "nbformat": 4,
 "nbformat_minor": 4
}
