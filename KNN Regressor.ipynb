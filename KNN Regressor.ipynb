{
 "cells": [
  {
   "cell_type": "markdown",
   "metadata": {},
   "source": [
    "# FIT5201 S1 2020 Assessment 1: Question 1 - KNN Regressor\n",
    "\n",
    "\n",
    "Student information\n",
    "- Family Name:Muralitharan\n",
    "- Given Name: Keerthana\n",
    "- Student ID: 30159474\n",
    "- Student email:kmur0015@student.monash.edu\n",
    "\n",
    "Programming Language: R 3.3 in Jupyter Notebook\n",
    "\n",
    "R Libraries used:\n",
    "- reshape2\n",
    "- ggplot"
   ]
  },
  {
   "cell_type": "code",
   "execution_count": 1,
   "metadata": {},
   "outputs": [
    {
     "name": "stderr",
     "output_type": "stream",
     "text": [
      "Loading required package: reshape2\n",
      "\n",
      "Loading required package: ggplot2\n",
      "\n"
     ]
    }
   ],
   "source": [
    "#importing the packages which are used in developing the regressor\n",
    "require(reshape2)\n",
    "require(ggplot2)"
   ]
  },
  {
   "cell_type": "markdown",
   "metadata": {},
   "source": [
    "### Question I. Implement the KNN regressor function:\n",
    "\n",
    "<b>knn(train.data, train.label, test.data, K=3)</b>\n",
    "\n",
    "which takes the training data and their labels (continuous values), the test set, and the size of the neighborhood (K). It should return the regressed values for the test data points. Note that, you need to use a distance function to choose the neighbors. The distance function used to measure the distance between a pair of data points is Manhattan distance function."
   ]
  },
  {
   "cell_type": "markdown",
   "metadata": {},
   "source": [
    "#### Reading the train dataset"
   ]
  },
  {
   "cell_type": "code",
   "execution_count": 16,
   "metadata": {},
   "outputs": [
    {
     "name": "stdout",
     "output_type": "stream",
     "text": [
      "Small snippet of the training dataset\n"
     ]
    },
    {
     "data": {
      "text/html": [
       "<table>\n",
       "<thead><tr><th scope=col>x1</th><th scope=col>y</th></tr></thead>\n",
       "<tbody>\n",
       "\t<tr><td>1960.0</td><td>0.71  </td></tr>\n",
       "\t<tr><td>1960.5</td><td>0.85  </td></tr>\n",
       "\t<tr><td>1961.0</td><td>0.61  </td></tr>\n",
       "\t<tr><td>1961.5</td><td>0.92  </td></tr>\n",
       "\t<tr><td>1962.0</td><td>0.72  </td></tr>\n",
       "\t<tr><td>1962.5</td><td>0.92  </td></tr>\n",
       "</tbody>\n",
       "</table>\n"
      ],
      "text/latex": [
       "\\begin{tabular}{r|ll}\n",
       " x1 & y\\\\\n",
       "\\hline\n",
       "\t 1960.0 & 0.71  \\\\\n",
       "\t 1960.5 & 0.85  \\\\\n",
       "\t 1961.0 & 0.61  \\\\\n",
       "\t 1961.5 & 0.92  \\\\\n",
       "\t 1962.0 & 0.72  \\\\\n",
       "\t 1962.5 & 0.92  \\\\\n",
       "\\end{tabular}\n"
      ],
      "text/markdown": [
       "\n",
       "| x1 | y |\n",
       "|---|---|\n",
       "| 1960.0 | 0.71   |\n",
       "| 1960.5 | 0.85   |\n",
       "| 1961.0 | 0.61   |\n",
       "| 1961.5 | 0.92   |\n",
       "| 1962.0 | 0.72   |\n",
       "| 1962.5 | 0.92   |\n",
       "\n"
      ],
      "text/plain": [
       "  x1     y   \n",
       "1 1960.0 0.71\n",
       "2 1960.5 0.85\n",
       "3 1961.0 0.61\n",
       "4 1961.5 0.92\n",
       "5 1962.0 0.72\n",
       "6 1962.5 0.92"
      ]
     },
     "metadata": {},
     "output_type": "display_data"
    },
    {
     "name": "stdout",
     "output_type": "stream",
     "text": [
      "The dimensions of the dataset:\n",
      " 42 2"
     ]
    }
   ],
   "source": [
    "#Reading the train and test data\n",
    "task1train <- read.csv('Task1A_train.csv', header = TRUE)\n",
    "\n",
    "cat(\"Small snippet of the training dataset\\n\")\n",
    "head(task1train)\n",
    "cat(\"The dimensions of the dataset:\\n\",dim(task1train))\n",
    "\n",
    "#Initializing the input and target values\n",
    "train.data <- task1train[1] \n",
    "train.label <- task1train[2]"
   ]
  },
  {
   "cell_type": "markdown",
   "metadata": {},
   "source": [
    "#### Reading the test dataset"
   ]
  },
  {
   "cell_type": "code",
   "execution_count": 17,
   "metadata": {},
   "outputs": [
    {
     "name": "stdout",
     "output_type": "stream",
     "text": [
      "Small snippet of the test dataset\n"
     ]
    },
    {
     "data": {
      "text/html": [
       "<table>\n",
       "<thead><tr><th scope=col>x1</th><th scope=col>y</th></tr></thead>\n",
       "<tbody>\n",
       "\t<tr><td>1960.25</td><td>0.63   </td></tr>\n",
       "\t<tr><td>1960.75</td><td>0.44   </td></tr>\n",
       "\t<tr><td>1961.25</td><td>0.69   </td></tr>\n",
       "\t<tr><td>1961.75</td><td>0.55   </td></tr>\n",
       "\t<tr><td>1962.25</td><td>0.77   </td></tr>\n",
       "\t<tr><td>1962.75</td><td>0.60   </td></tr>\n",
       "</tbody>\n",
       "</table>\n"
      ],
      "text/latex": [
       "\\begin{tabular}{r|ll}\n",
       " x1 & y\\\\\n",
       "\\hline\n",
       "\t 1960.25 & 0.63   \\\\\n",
       "\t 1960.75 & 0.44   \\\\\n",
       "\t 1961.25 & 0.69   \\\\\n",
       "\t 1961.75 & 0.55   \\\\\n",
       "\t 1962.25 & 0.77   \\\\\n",
       "\t 1962.75 & 0.60   \\\\\n",
       "\\end{tabular}\n"
      ],
      "text/markdown": [
       "\n",
       "| x1 | y |\n",
       "|---|---|\n",
       "| 1960.25 | 0.63    |\n",
       "| 1960.75 | 0.44    |\n",
       "| 1961.25 | 0.69    |\n",
       "| 1961.75 | 0.55    |\n",
       "| 1962.25 | 0.77    |\n",
       "| 1962.75 | 0.60    |\n",
       "\n"
      ],
      "text/plain": [
       "  x1      y   \n",
       "1 1960.25 0.63\n",
       "2 1960.75 0.44\n",
       "3 1961.25 0.69\n",
       "4 1961.75 0.55\n",
       "5 1962.25 0.77\n",
       "6 1962.75 0.60"
      ]
     },
     "metadata": {},
     "output_type": "display_data"
    },
    {
     "name": "stdout",
     "output_type": "stream",
     "text": [
      "The dimensions of the dataset:\n",
      " 42 2"
     ]
    }
   ],
   "source": [
    "#Reading the train and test data\n",
    "task1test <- read.csv('Task1A_test.csv', header = TRUE)\n",
    "\n",
    "cat(\"Small snippet of the test dataset\\n\")\n",
    "head(task1test)\n",
    "cat(\"The dimensions of the dataset:\\n\",dim(task1test))\n",
    "\n",
    "#Initializing the input and target values\n",
    "test.data <- task1test[1] \n",
    "test.label <- task1test[2]"
   ]
  },
  {
   "cell_type": "markdown",
   "metadata": {},
   "source": [
    "#### Building the KNN regressor\n",
    "\n",
    "which finds the k- nearest neighbours and returns the average value of it"
   ]
  },
  {
   "cell_type": "code",
   "execution_count": 18,
   "metadata": {},
   "outputs": [],
   "source": [
    "### Building the KNN function (regressor)\n",
    "knn <- function(train.data, train.label, test.data, K)\n",
    "{\n",
    "    ## counting the number of train and test rows in the dataset\n",
    "    len_traindata <- nrow(train.data)\n",
    "    len_testdata <- nrow(test.data)\n",
    "    \n",
    "    #create a dataframe to store the predicted values\n",
    "    test_predicted = data.frame()\n",
    "    \n",
    "    # calculating the distances between samples of the test and train datasets\n",
    "    # the dist dataframe consists of the distances calculated between the different points in the dataset\n",
    "    dist <- as.matrix(dist(rbind(test.data, train.data), method= 'manhattan'))[1:len_testdata, (len_testdata+1):(len_testdata+len_traindata)]\n",
    "    \n",
    "    #finding the neighbours for each element in the test sample\n",
    "    for (i in 1:len_testdata)\n",
    "    {\n",
    "        # finding the K-nearest neighbours from trained samples\n",
    "        neighbours <- as.data.frame(sort(dist[i,], index.return = TRUE))[1:K,2]\n",
    "        \n",
    "        #finding the mean distance for the K closest neighbours\n",
    "        test_predicted[i,1] <- mean(train.label[neighbours,])\n",
    "    }\n",
    "    \n",
    "    # return the test labels as output\n",
    "    return (test_predicted)\n",
    "}"
   ]
  },
  {
   "cell_type": "code",
   "execution_count": 19,
   "metadata": {},
   "outputs": [
    {
     "data": {
      "text/html": [
       "<table>\n",
       "<thead><tr><th scope=col>V1</th></tr></thead>\n",
       "<tbody>\n",
       "\t<tr><td> 0.7233333</td></tr>\n",
       "\t<tr><td> 0.7233333</td></tr>\n",
       "\t<tr><td> 0.7933333</td></tr>\n",
       "\t<tr><td> 0.7500000</td></tr>\n",
       "\t<tr><td> 0.8533333</td></tr>\n",
       "\t<tr><td> 0.8233333</td></tr>\n",
       "\t<tr><td> 0.9166667</td></tr>\n",
       "\t<tr><td> 0.9166667</td></tr>\n",
       "\t<tr><td> 1.0533333</td></tr>\n",
       "\t<tr><td> 1.1066667</td></tr>\n",
       "\t<tr><td> 1.2833333</td></tr>\n",
       "\t<tr><td> 1.2900000</td></tr>\n",
       "\t<tr><td> 1.5233333</td></tr>\n",
       "\t<tr><td> 1.5500000</td></tr>\n",
       "\t<tr><td> 1.7400000</td></tr>\n",
       "\t<tr><td> 1.6300000</td></tr>\n",
       "\t<tr><td> 1.9000000</td></tr>\n",
       "\t<tr><td> 2.0100000</td></tr>\n",
       "\t<tr><td> 2.4000000</td></tr>\n",
       "\t<tr><td> 2.5500000</td></tr>\n",
       "\t<tr><td> 3.0600000</td></tr>\n",
       "\t<tr><td> 3.3600000</td></tr>\n",
       "\t<tr><td> 3.8700000</td></tr>\n",
       "\t<tr><td> 4.2600000</td></tr>\n",
       "\t<tr><td> 4.7400000</td></tr>\n",
       "\t<tr><td> 5.1600000</td></tr>\n",
       "\t<tr><td> 5.7300000</td></tr>\n",
       "\t<tr><td> 6.0600000</td></tr>\n",
       "\t<tr><td> 6.5100000</td></tr>\n",
       "\t<tr><td> 6.6300000</td></tr>\n",
       "\t<tr><td> 7.2300000</td></tr>\n",
       "\t<tr><td> 7.5000000</td></tr>\n",
       "\t<tr><td> 7.9500000</td></tr>\n",
       "\t<tr><td> 8.5200000</td></tr>\n",
       "\t<tr><td> 9.1200000</td></tr>\n",
       "\t<tr><td>10.3200000</td></tr>\n",
       "\t<tr><td>11.1900000</td></tr>\n",
       "\t<tr><td>12.6900000</td></tr>\n",
       "\t<tr><td>13.6800000</td></tr>\n",
       "\t<tr><td>15.0300000</td></tr>\n",
       "\t<tr><td>15.6900000</td></tr>\n",
       "\t<tr><td>15.6900000</td></tr>\n",
       "</tbody>\n",
       "</table>\n"
      ],
      "text/latex": [
       "\\begin{tabular}{r|l}\n",
       " V1\\\\\n",
       "\\hline\n",
       "\t  0.7233333\\\\\n",
       "\t  0.7233333\\\\\n",
       "\t  0.7933333\\\\\n",
       "\t  0.7500000\\\\\n",
       "\t  0.8533333\\\\\n",
       "\t  0.8233333\\\\\n",
       "\t  0.9166667\\\\\n",
       "\t  0.9166667\\\\\n",
       "\t  1.0533333\\\\\n",
       "\t  1.1066667\\\\\n",
       "\t  1.2833333\\\\\n",
       "\t  1.2900000\\\\\n",
       "\t  1.5233333\\\\\n",
       "\t  1.5500000\\\\\n",
       "\t  1.7400000\\\\\n",
       "\t  1.6300000\\\\\n",
       "\t  1.9000000\\\\\n",
       "\t  2.0100000\\\\\n",
       "\t  2.4000000\\\\\n",
       "\t  2.5500000\\\\\n",
       "\t  3.0600000\\\\\n",
       "\t  3.3600000\\\\\n",
       "\t  3.8700000\\\\\n",
       "\t  4.2600000\\\\\n",
       "\t  4.7400000\\\\\n",
       "\t  5.1600000\\\\\n",
       "\t  5.7300000\\\\\n",
       "\t  6.0600000\\\\\n",
       "\t  6.5100000\\\\\n",
       "\t  6.6300000\\\\\n",
       "\t  7.2300000\\\\\n",
       "\t  7.5000000\\\\\n",
       "\t  7.9500000\\\\\n",
       "\t  8.5200000\\\\\n",
       "\t  9.1200000\\\\\n",
       "\t 10.3200000\\\\\n",
       "\t 11.1900000\\\\\n",
       "\t 12.6900000\\\\\n",
       "\t 13.6800000\\\\\n",
       "\t 15.0300000\\\\\n",
       "\t 15.6900000\\\\\n",
       "\t 15.6900000\\\\\n",
       "\\end{tabular}\n"
      ],
      "text/markdown": [
       "\n",
       "| V1 |\n",
       "|---|\n",
       "|  0.7233333 |\n",
       "|  0.7233333 |\n",
       "|  0.7933333 |\n",
       "|  0.7500000 |\n",
       "|  0.8533333 |\n",
       "|  0.8233333 |\n",
       "|  0.9166667 |\n",
       "|  0.9166667 |\n",
       "|  1.0533333 |\n",
       "|  1.1066667 |\n",
       "|  1.2833333 |\n",
       "|  1.2900000 |\n",
       "|  1.5233333 |\n",
       "|  1.5500000 |\n",
       "|  1.7400000 |\n",
       "|  1.6300000 |\n",
       "|  1.9000000 |\n",
       "|  2.0100000 |\n",
       "|  2.4000000 |\n",
       "|  2.5500000 |\n",
       "|  3.0600000 |\n",
       "|  3.3600000 |\n",
       "|  3.8700000 |\n",
       "|  4.2600000 |\n",
       "|  4.7400000 |\n",
       "|  5.1600000 |\n",
       "|  5.7300000 |\n",
       "|  6.0600000 |\n",
       "|  6.5100000 |\n",
       "|  6.6300000 |\n",
       "|  7.2300000 |\n",
       "|  7.5000000 |\n",
       "|  7.9500000 |\n",
       "|  8.5200000 |\n",
       "|  9.1200000 |\n",
       "| 10.3200000 |\n",
       "| 11.1900000 |\n",
       "| 12.6900000 |\n",
       "| 13.6800000 |\n",
       "| 15.0300000 |\n",
       "| 15.6900000 |\n",
       "| 15.6900000 |\n",
       "\n"
      ],
      "text/plain": [
       "   V1        \n",
       "1   0.7233333\n",
       "2   0.7233333\n",
       "3   0.7933333\n",
       "4   0.7500000\n",
       "5   0.8533333\n",
       "6   0.8233333\n",
       "7   0.9166667\n",
       "8   0.9166667\n",
       "9   1.0533333\n",
       "10  1.1066667\n",
       "11  1.2833333\n",
       "12  1.2900000\n",
       "13  1.5233333\n",
       "14  1.5500000\n",
       "15  1.7400000\n",
       "16  1.6300000\n",
       "17  1.9000000\n",
       "18  2.0100000\n",
       "19  2.4000000\n",
       "20  2.5500000\n",
       "21  3.0600000\n",
       "22  3.3600000\n",
       "23  3.8700000\n",
       "24  4.2600000\n",
       "25  4.7400000\n",
       "26  5.1600000\n",
       "27  5.7300000\n",
       "28  6.0600000\n",
       "29  6.5100000\n",
       "30  6.6300000\n",
       "31  7.2300000\n",
       "32  7.5000000\n",
       "33  7.9500000\n",
       "34  8.5200000\n",
       "35  9.1200000\n",
       "36 10.3200000\n",
       "37 11.1900000\n",
       "38 12.6900000\n",
       "39 13.6800000\n",
       "40 15.0300000\n",
       "41 15.6900000\n",
       "42 15.6900000"
      ]
     },
     "metadata": {},
     "output_type": "display_data"
    }
   ],
   "source": [
    "# regressor call for the case when the value of K is 3\n",
    "knn(train.data, train.label, test.data, K=3)"
   ]
  },
  {
   "cell_type": "markdown",
   "metadata": {},
   "source": [
    "#### Question II. \n",
    "\n",
    "Plot the training and the testing errors versus 1/K for K=1,.., 30 in one plot, using the Task1A_train.csv and Task1A_test.csv datasets provided for this assignment. Save the plot in your Jupyter Notebook file for Question 1. Report your chosen error function in your Jupyter Notebook file."
   ]
  },
  {
   "cell_type": "markdown",
   "metadata": {},
   "source": [
    "### Error Function\n",
    "\n",
    "The MSE is calculated between the true and predicted values"
   ]
  },
  {
   "cell_type": "code",
   "execution_count": 20,
   "metadata": {},
   "outputs": [],
   "source": [
    "# Defining the error function\n",
    "error <- function(true_values, predicted_values)\n",
    "{\n",
    "    # Calculating the Mean squared error between the true and predicted values\n",
    "    sq_error = (true_values-predicted_values)^2\n",
    "    loss = sum(sq_error)/nrow(true_values)\n",
    "    \n",
    "    #return the error \n",
    "    return (loss)\n",
    "}"
   ]
  },
  {
   "cell_type": "code",
   "execution_count": 21,
   "metadata": {},
   "outputs": [],
   "source": [
    "#A dataframe is created to store the training and test data errors for the values of K from 1 to 30\n",
    "error_file = data.frame('K'=1:30, 'train'= rep(0,30), 'test'= rep(0,30))\n",
    "\n",
    "# Populating the error dataframe\n",
    "for (k in 1:30)\n",
    "{   #Calculating the predicted values from the KNN regressor function\n",
    "    train_predicted = knn(train.data, train.label, train.data, K=k)\n",
    "    test_predicted = knn(train.data, train.label, test.data, K=k)\n",
    "    \n",
    "    #Calculating the train and test errors \n",
    "    error_file[k,'train'] = error(train.label,train_predicted)\n",
    "    error_file[k,'test'] = error(test.label,test_predicted)\n",
    "}"
   ]
  },
  {
   "cell_type": "code",
   "execution_count": 22,
   "metadata": {},
   "outputs": [
    {
     "data": {
      "text/html": [
       "<table>\n",
       "<thead><tr><th scope=col>K</th><th scope=col>train</th><th scope=col>test</th></tr></thead>\n",
       "<tbody>\n",
       "\t<tr><td>1         </td><td>0.00000000</td><td>1.689724  </td></tr>\n",
       "\t<tr><td>2         </td><td>0.12229226</td><td>2.126671  </td></tr>\n",
       "\t<tr><td>3         </td><td>0.09634101</td><td>1.695130  </td></tr>\n",
       "\t<tr><td>4         </td><td>0.14983810</td><td>1.852862  </td></tr>\n",
       "\t<tr><td>5         </td><td>0.15821952</td><td>1.380205  </td></tr>\n",
       "\t<tr><td>6         </td><td>0.28321620</td><td>1.472957  </td></tr>\n",
       "</tbody>\n",
       "</table>\n"
      ],
      "text/latex": [
       "\\begin{tabular}{r|lll}\n",
       " K & train & test\\\\\n",
       "\\hline\n",
       "\t 1          & 0.00000000 & 1.689724  \\\\\n",
       "\t 2          & 0.12229226 & 2.126671  \\\\\n",
       "\t 3          & 0.09634101 & 1.695130  \\\\\n",
       "\t 4          & 0.14983810 & 1.852862  \\\\\n",
       "\t 5          & 0.15821952 & 1.380205  \\\\\n",
       "\t 6          & 0.28321620 & 1.472957  \\\\\n",
       "\\end{tabular}\n"
      ],
      "text/markdown": [
       "\n",
       "| K | train | test |\n",
       "|---|---|---|\n",
       "| 1          | 0.00000000 | 1.689724   |\n",
       "| 2          | 0.12229226 | 2.126671   |\n",
       "| 3          | 0.09634101 | 1.695130   |\n",
       "| 4          | 0.14983810 | 1.852862   |\n",
       "| 5          | 0.15821952 | 1.380205   |\n",
       "| 6          | 0.28321620 | 1.472957   |\n",
       "\n"
      ],
      "text/plain": [
       "  K train      test    \n",
       "1 1 0.00000000 1.689724\n",
       "2 2 0.12229226 2.126671\n",
       "3 3 0.09634101 1.695130\n",
       "4 4 0.14983810 1.852862\n",
       "5 5 0.15821952 1.380205\n",
       "6 6 0.28321620 1.472957"
      ]
     },
     "metadata": {},
     "output_type": "display_data"
    }
   ],
   "source": [
    "#A snipet of the error dataframe\n",
    "head(error_file)"
   ]
  },
  {
   "cell_type": "markdown",
   "metadata": {},
   "source": [
    "#### Graph\n",
    "\n",
    "For every value of **K** the error values are calculated and plotted "
   ]
  },
  {
   "cell_type": "code",
   "execution_count": 23,
   "metadata": {},
   "outputs": [
    {
     "data": {
      "image/png": "[encoded data removed]",
      "text/plain": [
       "plot without title"
      ]
     },
     "metadata": {
      "image/png": {
       "height": 420,
       "width": 420
      }
     },
     "output_type": "display_data"
    }
   ],
   "source": [
    "# plotting the train and test data error calculated for different K-Values(1 to 30).\n",
    "\n",
    "error_file_viz <- melt(error_file, id='K') # reshaping for visualization\n",
    "\n",
    "names(error_file_viz) <- c('K', 'Type', 'Error') #rename the columns being reshaped\n",
    "\n",
    "#Plotting the error graph\n",
    "ggplot(data=error_file_viz, aes(x=(1/K), y=Error, color=Type)) + geom_line() + ggtitle(\"Error for different K values for train and test data sets\")"
   ]
  },
  {
   "cell_type": "markdown",
   "metadata": {},
   "source": [
    "#### Question III. \n",
    "\n",
    "Report (in your Jupyter Notebook file) the optimum value for K in terms of the testing error. Discuss the values of K and model complexity corresponding to underfitting and overfitting based on your plot in the previous part (Part II).\n",
    "\n",
    "##### Answers \n",
    "- Estimating the Optimum value for K based on testing error\n",
    " 1. Optimum value for k lies at the value of ~0.1 of 1/K which corresponds to the **K-Value of 10**\n",
    " 2. The model $underfits$ for the large values of K where both Training and testing Errors are Large\n",
    " 3. The model $overfits$ for small values of K where the training error is very small but there is considerable testing error"
   ]
  },
  {
   "cell_type": "markdown",
   "metadata": {},
   "source": [
    "##### References\n",
    "- Logic : https://www.analyticsvidhya.com/blog/2018/08/k-nearest-neighbor-introduction-regression-python/\n",
    "- Undderstand the distance Calcuation :https://www.saedsayad.com/k_nearest_neighbors_reg.htm"
   ]
  }
 ],
 "metadata": {
  "kernelspec": {
   "display_name": "R 3.3",
   "language": "R",
   "name": "ir3.3"
  },
  "language_info": {
   "codemirror_mode": "r",
   "file_extension": ".r",
   "mimetype": "text/x-r-source",
   "name": "R",
   "pygments_lexer": "r",
   "version": "3.5.3"
  }
 },
 "nbformat": 4,
 "nbformat_minor": 4
}
